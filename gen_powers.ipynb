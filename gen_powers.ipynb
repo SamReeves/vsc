{
 "cells": [
  {
   "attachments": {},
   "cell_type": "markdown",
   "metadata": {},
   "source": [
    "# Generating Magic Numbers for EVM"
   ]
  },
  {
   "cell_type": "code",
   "execution_count": 18,
   "metadata": {},
   "outputs": [],
   "source": [
    "import numpy as np\n",
    "import pandas as pd\n",
    "import matplotlib.pyplot as plt\n",
    "import scipy.stats as stats\n",
    "\n",
    "def gen_powers(base) -> list:\n",
    "    \"\"\"\n",
    "    Generates a list of powers of a number.\n",
    "    \"\"\"\n",
    "    powers = []\n",
    "    for q in [10, 1, 0.1, 0.01, 0.001, 0.0001, 0.00001, 0.000001, 0.0000001, 0.00000001]:\n",
    "        place = [round((base ** power), ndigits=10) for power in np.linspace(0, q, 11)][1:-1]\n",
    "        powers.append(place)\n",
    "    return powers\n",
    "\n",
    "def power_contract(base, pragma, title, description, license, author, input, output) -> str:\n",
    "    \"\"\"\n",
    "    Generates a Vyper contract that calculates the power of a number.\n",
    "    \"\"\"\n",
    "    preamble = \\\n",
    "    \"\"\"#@version {pragma}\n",
    "\\\"\"\"\n",
    "@title {title}\n",
    "@description {description}\n",
    "@license {license}\n",
    "@author {author}\n",
    "@input {input}\n",
    "@output {output}\n",
    "\\\"\"\"\n",
    "\"\"\"\n",
    "\n",
    "    preamble = preamble.format(pragma=pragma, title=title, description=description, \\\n",
    "        license=license, author=author, input=input, output=output)\n",
    "    \n",
    "    magic_numbers = str(gen_powers(base))\n",
    "\n",
    "    body = \\\n",
    "\"\"\"\n",
    "_owner: private(address)\n",
    "tab: constant(decimal[10][10]) = {magic_numbers}\n",
    "\n",
    "@external\n",
    "def __init__():\n",
    "    self._owner = msg.sender\n",
    "\n",
    "@pure\n",
    "def multiply_exponents(n: decimal) -> decimal:\n",
    "    # this function refers to the table and returns x^n \n",
    "    # by multiplying values in 10 decimal places\n",
    "    # param: n = the power to raise e to\n",
    "    \n",
    "    # split n into a whole part and a decimal part\n",
    "    r: int256 = floor(n)\n",
    "    f: decimal = n - convert(r, decimal)\n",
    "\n",
    "    # create a list of every digit in f\n",
    "    digits: int128[10]\n",
    "    for i in range(9):\n",
    "        digits[i] = floor(f * convert((10 ** i), decimal))\n",
    "    \n",
    "    # calculate the two parts and multiply them together\n",
    "    whole: decimal = convert(r // 9, decimal) * tab([0][9]) * tab([0][r % 9])\n",
    "    fraction: decimal = 1.0\n",
    "    for i in range(9):\n",
    "        fraction *= tab(i+1, digits[i])\n",
    "    return whole * fraction\n",
    "\n",
    "@external\n",
    "def exp():\n",
    "    # calls the multiply_exponents function\n",
    "\n",
    "    assert msg.data >= 0.0, \"Negative powers are not supported.\"\n",
    "    send(msg.sender, multiply_exponents(msg.data))\n",
    "\n",
    "@external\n",
    "def unalive():\n",
    "    # allows the owner to unalive the contract\n",
    "\n",
    "    assert msg.sender == self._owner, \"Only the owner can unalive the contract.\"\n",
    "    selfdestruct(self._owner)\n",
    "\n",
    "@external\n",
    "def change_owner(new_owner: address):\n",
    "    # changes the owner of the contract\n",
    "    # param: new_owner = the new owner of the contract\n",
    "\n",
    "    assert msg.sender == self._owner, \"Only the owner can change the owner.\"\n",
    "    self.owner = new_owner\n",
    "\"\"\"\n",
    "    txt = preamble + body.format(magic_numbers=magic_numbers)\n",
    "    with open(title + '.vy', 'w') as f:\n",
    "        f.write(txt)\n",
    "\n"
   ]
  },
  {
   "attachments": {},
   "cell_type": "markdown",
   "metadata": {},
   "source": [
    "#### Powers of e"
   ]
  },
  {
   "cell_type": "code",
   "execution_count": 19,
   "metadata": {},
   "outputs": [],
   "source": [
    "power_contract(base=np.exp(1),\n",
    "               pragma=\"0.3.7\",\n",
    "               title=\"e\",\n",
    "               description=\"base of the natural logarithm.\",\n",
    "                license=\"MIT\",\n",
    "                author=\"magic numbers\",\n",
    "                input=\"a non-negative decimal power of e\",\n",
    "                output=\"a^n, a decimal number\")"
   ]
  },
  {
   "attachments": {},
   "cell_type": "markdown",
   "metadata": {},
   "source": [
    "#### Powers of pi"
   ]
  },
  {
   "cell_type": "code",
   "execution_count": 20,
   "metadata": {},
   "outputs": [],
   "source": [
    "power_contract(base = np.pi,\n",
    "               pragma=\"0.3.7\", title=\"pi\",\n",
    "                description=\"pi is the signature of a circle.\", license=\"MIT\",\n",
    "                author=\"magic numbers\", input=\"n, a decimal power of pi\",\n",
    "                output=\"pi^n, a decimal number\")"
   ]
  },
  {
   "attachments": {},
   "cell_type": "markdown",
   "metadata": {},
   "source": [
    "#### Powers of tau"
   ]
  },
  {
   "cell_type": "code",
   "execution_count": 21,
   "metadata": {},
   "outputs": [],
   "source": [
    "power_contract(base=np.pi*2,\n",
    "                pragma=\"0.3.7\",\n",
    "                title=\"tau\",\n",
    "                description=\"tau is also the signature of a wave.\",\n",
    "                license=\"MIT\",\n",
    "                author=\"Magic Numbers\",\n",
    "                input=\"n, a decimal power of tau\",\n",
    "                output=\"tau^n, a decimal number\")"
   ]
  }
 ],
 "metadata": {
  "kernelspec": {
   "display_name": "Python 3",
   "language": "python",
   "name": "python3"
  },
  "language_info": {
   "codemirror_mode": {
    "name": "ipython",
    "version": 3
   },
   "file_extension": ".py",
   "mimetype": "text/x-python",
   "name": "python",
   "nbconvert_exporter": "python",
   "pygments_lexer": "ipython3",
   "version": "3.9.2"
  },
  "orig_nbformat": 4,
  "vscode": {
   "interpreter": {
    "hash": "e7370f93d1d0cde622a1f8e1c04877d8463912d04d973331ad4851f04de6915a"
   }
  }
 },
 "nbformat": 4,
 "nbformat_minor": 2
}
